{
 "cells": [
  {
   "cell_type": "code",
   "execution_count": 148,
   "metadata": {},
   "outputs": [],
   "source": [
    "import numpy as np\n",
    "import pandas as pd\n",
    "import matplotlib.pyplot as plt\n",
    "import seaborn as sns\n",
    "import os\n",
    "import re\n",
    "import tarfile\n",
    "import urllib\n",
    "import email\n",
    "from sklearn.feature_extraction.text import TfidfVectorizer\n",
    "from sklearn.metrics import roc_curve, roc_auc_score, accuracy_score, confusion_matrix\n",
    "from sklearn.preprocessing import StandardScaler\n",
    "from sklearn.neighbors import KNeighborsClassifier\n",
    "from sklearn.svm import SVC\n",
    "from sklearn.tree import DecisionTreeClassifier\n",
    "from sklearn.model_selection import train_test_split, cross_val_score, GridSearchCV\n",
    "from sklearn.pipeline import Pipeline\n",
    "from sklearn.compose import ColumnTransformer"
   ]
  },
  {
   "cell_type": "code",
   "execution_count": 70,
   "metadata": {},
   "outputs": [],
   "source": [
    "DOWNLOAD_ROOT = \"http://spamassassin.apache.org/old/publiccorpus/\"\n",
    "HAM_URL = DOWNLOAD_ROOT + \"20030228_easy_ham.tar.bz2\"\n",
    "SPAM_URL = DOWNLOAD_ROOT + \"20030228_spam.tar.bz2\"\n",
    "SPAM_PATH = os.path.join(\"dataset\", \"spam\")\n",
    "\n",
    "def get_spam_data(spam_url=SPAM_URL, spam_path=SPAM_PATH):\n",
    "    if not os.path.isdir(spam_path):\n",
    "        os.makedirs(spam_path)\n",
    "        \n",
    "    for filename, url in ((\"ham.tar.bz2\", HAM_URL), (\"spam.tar.bz2\", SPAM_URL)):\n",
    "        path = os.path.join(spam_path, filename)\n",
    "        \n",
    "        if not os.path.isfile(path):\n",
    "            urllib.request.urlretrieve(url, path)\n",
    "            \n",
    "        tar_bz2_file = tarfile.open(path)\n",
    "        tar_bz2_file.extractall(path=SPAM_PATH)\n",
    "        tar_bz2_file.close()"
   ]
  },
  {
   "cell_type": "code",
   "execution_count": 71,
   "metadata": {},
   "outputs": [],
   "source": [
    "get_spam_data()"
   ]
  },
  {
   "cell_type": "code",
   "execution_count": 80,
   "metadata": {},
   "outputs": [],
   "source": [
    "raw_data = []\n",
    "labels = []\n",
    "invalid_list = []"
   ]
  },
  {
   "cell_type": "code",
   "execution_count": 84,
   "metadata": {},
   "outputs": [],
   "source": [
    "def process_email(body):\n",
    "    body_pp = body.lower()\n",
    "    body_pp = re.sub(r\"(http|https)://[^\\s]*\", ' httpaddr ', body_pp)\n",
    "    body_pp = re.sub(r\"[^\\s]+@[^\\s]+\", ' emailaddr ', body_pp)\n",
    "    body_pp = re.sub(' html ',' ', body_pp)\n",
    "    \n",
    "    return body_pp\n",
    "\n",
    "def process_folder(path, label):\n",
    "    for filename in os.listdir(path):\n",
    "        try:\n",
    "            file = open(path + filename,'r', errors='ignore')\n",
    "            content = file.read()\n",
    "\n",
    "            msg = email.message_from_string(content)\n",
    "            \n",
    "            if msg.is_multipart():\n",
    "                body = []\n",
    "                \n",
    "                for payload in msg.get_payload():\n",
    "                    body.append(payload.get_payload())\n",
    "                    \n",
    "                body = ' '.join(body)\n",
    "\n",
    "            else:\n",
    "                body = msg.get_payload()\n",
    "                \n",
    "            body = processemail(body)\n",
    "            raw_data.append(body)\n",
    "            labels.append(label)\n",
    "            \n",
    "        except:\n",
    "            invalid_list.append(filename)"
   ]
  },
  {
   "cell_type": "code",
   "execution_count": 85,
   "metadata": {},
   "outputs": [
    {
     "name": "stdout",
     "output_type": "stream",
     "text": [
      "Total email count: 5982\n",
      "Total labels: 5982\n"
     ]
    }
   ],
   "source": [
    "SPAM_PATH = 'D:/kodzik/spam_classifier/dataset/spam/spam/'\n",
    "HAM_PATH = 'D:/kodzik/spam_classifier/dataset/spam/easy_ham/'\n",
    "\n",
    "process_folder(SPAM_PATH, 1)\n",
    "process_folder(HAM_PATH, 0)\n",
    "print(f'Total email count: {len(raw_data)}')\n",
    "print(f'Total labels: {len(labels)}')"
   ]
  },
  {
   "cell_type": "code",
   "execution_count": 88,
   "metadata": {},
   "outputs": [
    {
     "name": "stdout",
     "output_type": "stream",
     "text": [
      "urgent private   extremely confidential    dear   number c  with profound interest and in utmost confidence  number c i am soliciting your immediate assistance or co operation as to enable us round up an opportunity within my capability as a result of the death of one of our contractor   number beneficiary  number   number e you should not be surprised as to how i got your contact  number c you were highly recommended to me with the believe that you are competent  number c reliable  number c trustworthy and confident  number e  i am  dr  number e bello ahmed  number c chief auditor  number c special project and foreign contract regularization and disbursement  number c in the office of the auditor general of the federation of federal republic of nigeria  number e we work in hand with the senate committee on foreign contract payment  number e our duty is to ensure that all contractors are paid their contract sum in due time  number e  this last payment quarter  number c a total of  number  contractors were short listed for payment and about  number  of them have been paid remaining about  number    number five  number   number c information reaching this office indicates that one among the remaining has been reported dead  number e his name is mr  number e gerrand schwartz from sweden  number c he died in the last air france concorde plane crash  number e meanwhile he finished the execution of his contract december  number th  number   number e but since his death  number c nobody has come forward to put a claim to his contract fund which is about us dollar  number   number c number   number c number   number e number  million   number fifteen million five hundred thousand u  number es dollars  number  that is why i need your immediate assistance to expedite the transfer of the contract amount  number e  with my position as a director  in the department of contract regularisation and disbursement  number c i will regularize all the necessary documents and present your company as the bona fide beneficiary of this fund in as   much as you respond within  number  hours for respect of this important message  number e your unreserved cooperation in this business is just what we require for a successful and hitch   number  free transaction  number e necessary measures to ensure a risk   number  free and fool proof transaction and confidentiality has been taken  number e   kindly signify your interest by replying via my personal e   number mail address above  number e upon receipt of your positive reply we shall discuss on   number   number  basic program for operation   number   number  financial status as to ascertain your capability  number e  upon completion of this transaction i have decided to give you  number   of the total sum  number c  number   of the fund which is our share will be used for investment in your company or in any other company of our choice  number e while number   has been mapped out to take care of any minor expenses incurred  number e take note that this project will last for only  number  working days  number e  i expect your response in time   number within  number  hours  number  as time is of great essence in this transaction  number e  god bless and kind regards  number c  dr  number e bello ahmed    \n"
     ]
    }
   ],
   "source": [
    "print(raw_data[21])"
   ]
  },
  {
   "cell_type": "code",
   "execution_count": 101,
   "metadata": {},
   "outputs": [],
   "source": [
    "X_train, X_test, y_train, y_test = train_test_split(raw_data, labels, test_size=0.2)"
   ]
  },
  {
   "cell_type": "code",
   "execution_count": 102,
   "metadata": {},
   "outputs": [],
   "source": [
    "vectorizer = TfidfVectorizer()"
   ]
  },
  {
   "cell_type": "code",
   "execution_count": 103,
   "metadata": {},
   "outputs": [],
   "source": [
    "X_train = vectorizer.fit_transform(X_train)\n",
    "X_test = vectorizer.transform(X_test)"
   ]
  },
  {
   "cell_type": "code",
   "execution_count": 114,
   "metadata": {},
   "outputs": [],
   "source": [
    "model_svm = SVC()"
   ]
  },
  {
   "cell_type": "code",
   "execution_count": 122,
   "metadata": {},
   "outputs": [],
   "source": [
    "C = [0.01, 0.1, 0.2, 0.5, 1, 2]\n",
    "kernel = ['linear', 'poly', 'rbf', 'sigmoid']\n",
    "gamma = ['scale', 'auto']\n",
    "\n",
    "param_grid = {'C' : C, 'kernel' : kernel, 'gamma' : gamma}"
   ]
  },
  {
   "cell_type": "code",
   "execution_count": 125,
   "metadata": {},
   "outputs": [
    {
     "data": {
      "text/plain": [
       "GridSearchCV(cv=5, estimator=SVC(),\n",
       "             param_grid={'C': [0.01, 0.1, 0.2, 0.5, 1, 2],\n",
       "                         'gamma': ['scale', 'auto'],\n",
       "                         'kernel': ['linear', 'poly', 'rbf', 'sigmoid']},\n",
       "             return_train_score=True, scoring='roc_auc')"
      ]
     },
     "execution_count": 125,
     "metadata": {},
     "output_type": "execute_result"
    }
   ],
   "source": [
    "grid_search = GridSearchCV(model_svc, param_grid, cv=5, scoring='roc_auc',\n",
    "                          return_train_score=True)\n",
    "\n",
    "grid_search.fit(X_train, y_train)"
   ]
  },
  {
   "cell_type": "code",
   "execution_count": 126,
   "metadata": {},
   "outputs": [
    {
     "data": {
      "text/plain": [
       "{'C': 2, 'gamma': 'scale', 'kernel': 'linear'}"
      ]
     },
     "execution_count": 126,
     "metadata": {},
     "output_type": "execute_result"
    }
   ],
   "source": [
    "grid_search.best_params_"
   ]
  },
  {
   "cell_type": "code",
   "execution_count": 151,
   "metadata": {},
   "outputs": [],
   "source": [
    "model = grid_search.best_estimator_"
   ]
  },
  {
   "cell_type": "code",
   "execution_count": 152,
   "metadata": {},
   "outputs": [],
   "source": [
    "y_pred = model.predict(X_test)"
   ]
  },
  {
   "cell_type": "code",
   "execution_count": 161,
   "metadata": {},
   "outputs": [
    {
     "name": "stdout",
     "output_type": "stream",
     "text": [
      "roc_auc: 0.9948971094896589\n",
      "accuracy: 0.9949874686716792\n"
     ]
    }
   ],
   "source": [
    "acc = accuracy_score(y_pred, y_test)\n",
    "roc_auc = roc_auc_score(y_pred, y_test)\n",
    "print(f'roc_auc: {roc_auc}')\n",
    "print(f'accuracy: {acc}')"
   ]
  },
  {
   "cell_type": "code",
   "execution_count": 155,
   "metadata": {},
   "outputs": [
    {
     "data": {
      "image/png": "[encoded data removed]",
      "text/plain": [
       "<Figure size 1008x720 with 1 Axes>"
      ]
     },
     "metadata": {
      "needs_background": "light"
     },
     "output_type": "display_data"
    }
   ],
   "source": [
    "fpr, tpr, thrshds = roc_curve(y_pred, y_test)\n",
    "plt.figure(figsize=(14,10))\n",
    "plt.plot(fpr, tpr)\n",
    "plt.xlabel('fpr', fontsize=18)\n",
    "plt.ylabel('tpr', fontsize=18)\n",
    "plt.show()"
   ]
  },
  {
   "cell_type": "code",
   "execution_count": 156,
   "metadata": {},
   "outputs": [
    {
     "data": {
      "text/plain": [
       "<AxesSubplot:>"
      ]
     },
     "execution_count": 156,
     "metadata": {},
     "output_type": "execute_result"
    },
    {
     "data": {
      "image/png": "[encoded data removed]",
      "text/plain": [
       "<Figure size 1008x720 with 2 Axes>"
      ]
     },
     "metadata": {
      "needs_background": "light"
     },
     "output_type": "display_data"
    }
   ],
   "source": [
    "cnf_mtx = confusion_matrix(y_pred, y_test)\n",
    "plt.figure(figsize=(14,10))\n",
    "sns.heatmap(cnf_mtx, annot=True)"
   ]
  },
  {
   "cell_type": "code",
   "execution_count": null,
   "metadata": {},
   "outputs": [],
   "source": []
  }
 ],
 "metadata": {
  "kernelspec": {
   "display_name": "Python 3",
   "language": "python",
   "name": "python3"
  },
  "language_info": {
   "codemirror_mode": {
    "name": "ipython",
    "version": 3
   },
   "file_extension": ".py",
   "mimetype": "text/x-python",
   "name": "python",
   "nbconvert_exporter": "python",
   "pygments_lexer": "ipython3",
   "version": "3.8.5"
  }
 },
 "nbformat": 4,
 "nbformat_minor": 4
}
